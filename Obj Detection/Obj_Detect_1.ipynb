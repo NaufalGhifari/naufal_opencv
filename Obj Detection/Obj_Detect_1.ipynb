{
 "cells": [
  {
   "cell_type": "markdown",
   "id": "14cf4ef4-0847-4602-b0c8-680fc1c75095",
   "metadata": {},
   "source": [
    "<h2>1. Import image and show using OpenCV </h2>"
   ]
  },
  {
   "cell_type": "code",
   "execution_count": 1,
   "id": "e36f258e-1eca-4dc9-b1ec-fede4fa39924",
   "metadata": {},
   "outputs": [
    {
     "data": {
      "text/plain": [
       "-1"
      ]
     },
     "execution_count": 1,
     "metadata": {},
     "output_type": "execute_result"
    }
   ],
   "source": [
    "import cv2\n",
    "\n",
    "img = cv2.imread(\"./Resources/lena.png\")\n",
    "cv2.imshow(\"Lena\", img)\n",
    "\n",
    "# waits indefinitely\n",
    "cv2.waitKey(0)"
   ]
  },
  {
   "cell_type": "markdown",
   "id": "cb4e258b-13ca-43f1-8d26-795e76ad72cb",
   "metadata": {},
   "source": [
    "<h2>2. Import an existing video and show using OpenCV </h2>"
   ]
  },
  {
   "cell_type": "code",
   "execution_count": null,
   "id": "e136c9ab-80ba-4a00-bb8b-dca487bd106a",
   "metadata": {},
   "outputs": [],
   "source": [
    "import cv2\n",
    "\n",
    "# set the frame size, this is 720p\n",
    "frameWidth = 1280\n",
    "frameHeight = 720\n",
    "\n",
    "# take an existing video\n",
    "cap = cv2.VideoCapture(\"./Resources/testVideo.mp4\")\n",
    "\n",
    "while True:\n",
    "    success, img = cap.read()\n",
    "    \n",
    "    # if you need to resize the video:\n",
    "    #img = cv2.resize(img, (frameWidth, frameHeight))\n",
    "    \n",
    "    cv2.imshow(\"Video\", img)\n",
    "    \n",
    "    if cv2.waitKey(1) & 0xFF == ord('q'):\n",
    "        break\n",
    "\n"
   ]
  },
  {
   "cell_type": "markdown",
   "id": "c506414b-c50a-45a5-aa1a-ac0b65508625",
   "metadata": {},
   "source": [
    "<h2>3. Import webcam and show using OpenCV </h2>"
   ]
  },
  {
   "cell_type": "code",
   "execution_count": 14,
   "id": "d6eb0c95-c633-4d06-a6d6-2543875335cc",
   "metadata": {},
   "outputs": [],
   "source": [
    "import cv2\n",
    "\n",
    "# take an existing video\n",
    "cap = cv2.VideoCapture(0)\n",
    "\n",
    "while True:\n",
    "    success, img = cap.read()\n",
    "    \n",
    "    # edge detection\n",
    "    imgEdge = cv2.Canny(img, 100, 100)\n",
    "    \n",
    "    cv2.imshow(\"Video\", imgEdge)\n",
    "    \n",
    "    if cv2.waitKey(1) & 0xFF == ord('q'): # known issue: will crash on windows 11\n",
    "        break\n"
   ]
  },
  {
   "cell_type": "markdown",
   "id": "739d4b38",
   "metadata": {},
   "source": [
    "<h2>4. Handy functions</h2>"
   ]
  },
  {
   "cell_type": "code",
   "execution_count": 1,
   "id": "c46e1df6",
   "metadata": {},
   "outputs": [
    {
     "name": "stdout",
     "output_type": "stream",
     "text": [
      "[[1 1 1 1 1]\n",
      " [1 1 1 1 1]\n",
      " [1 1 1 1 1]\n",
      " [1 1 1 1 1]\n",
      " [1 1 1 1 1]]\n"
     ]
    },
    {
     "data": {
      "text/plain": [
       "48"
      ]
     },
     "execution_count": 1,
     "metadata": {},
     "output_type": "execute_result"
    }
   ],
   "source": [
    "import cv2\n",
    "import numpy as np\n",
    "\n",
    "## required to make alterations to the image\n",
    "myKernel = np.ones((5, 5), np.uint8)\n",
    "\n",
    "## 1. Change image color using cvtColor\n",
    "img = cv2.imread(\"./Resources/lena.png\")\n",
    "img2 = cv2.cvtColor(img, cv2.COLOR_BGR2GRAY)\n",
    "cv2.imshow(\"Lena\", img2)\n",
    "cv2.waitKey(0)\n",
    "\n",
    "## 2. Blur using GaussianBlur\n",
    "imgBlurr = cv2.GaussianBlur(img, (7, 7), 0)\n",
    "cv2.imshow(\"Lena\", imgBlurr)\n",
    "cv2.waitKey(0)\n",
    "\n",
    "## 3. Detect edges using canny\n",
    "imgCanny = cv2.Canny(imgBlurr, 100, 100)\n",
    "cv2.imshow(\"Lena\", imgCanny)\n",
    "cv2.waitKey(0)\n",
    "\n",
    "## 4. Dilate\n",
    "imgDilate = cv2.dilate(imgCanny, myKernel, iterations=1)\n",
    "cv2.imshow(\"Lena\", imgDilate)\n",
    "cv2.waitKey(0)\n",
    "\n",
    "## 5. Erosion (inverse of dilation)\n",
    "imgErode = cv2.erode(imgDilate, myKernel, iterations=2)\n",
    "cv2.imshow(\"Lena\", imgErode)\n",
    "cv2.waitKey(0)"
   ]
  },
  {
   "cell_type": "markdown",
   "id": "fc169f3b",
   "metadata": {},
   "source": [
    "<h2>5. Crop and resize image</h2>"
   ]
  },
  {
   "cell_type": "code",
   "execution_count": null,
   "id": "11702b02",
   "metadata": {},
   "outputs": [],
   "source": []
  }
 ],
 "metadata": {
  "kernelspec": {
   "display_name": "Python 3 (ipykernel)",
   "language": "python",
   "name": "python3"
  },
  "language_info": {
   "codemirror_mode": {
    "name": "ipython",
    "version": 3
   },
   "file_extension": ".py",
   "mimetype": "text/x-python",
   "name": "python",
   "nbconvert_exporter": "python",
   "pygments_lexer": "ipython3",
   "version": "3.10.7"
  }
 },
 "nbformat": 4,
 "nbformat_minor": 5
}
