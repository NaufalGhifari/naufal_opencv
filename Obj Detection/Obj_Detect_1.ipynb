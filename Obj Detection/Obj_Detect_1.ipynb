{
 "cells": [
  {
   "cell_type": "markdown",
   "id": "14cf4ef4-0847-4602-b0c8-680fc1c75095",
   "metadata": {},
   "source": [
    "<h2>1. Import image and show using OpenCV </h2>"
   ]
  },
  {
   "cell_type": "code",
   "execution_count": null,
   "id": "e36f258e-1eca-4dc9-b1ec-fede4fa39924",
   "metadata": {},
   "outputs": [],
   "source": [
    "import cv2\n",
    "\n",
    "img = cv2.imread(\"./Resources/lena.png\")\n",
    "cv2.imshow(\"Lena\", img)\n",
    "\n",
    "# waits indefinitely\n",
    "cv2.waitKey(0)"
   ]
  },
  {
   "cell_type": "markdown",
   "id": "cb4e258b-13ca-43f1-8d26-795e76ad72cb",
   "metadata": {},
   "source": [
    "<h2>2. Import an existing video and show using OpenCV </h2>"
   ]
  },
  {
   "cell_type": "code",
   "execution_count": null,
   "id": "e136c9ab-80ba-4a00-bb8b-dca487bd106a",
   "metadata": {},
   "outputs": [],
   "source": [
    "import cv2\n",
    "\n",
    "# set the frame size, this is 720p\n",
    "frameWidth = 1280\n",
    "frameHeight = 720\n",
    "\n",
    "# take an existing video\n",
    "cap = cv2.VideoCapture(\"./Resources/testVideo.mp4\")\n",
    "\n",
    "while True:\n",
    "    success, img = cap.read()\n",
    "    \n",
    "    # if you need to resize the video:\n",
    "    #img = cv2.resize(img, (frameWidth, frameHeight))\n",
    "    \n",
    "    cv2.imshow(\"Video\", img)\n",
    "    \n",
    "    if cv2.waitKey(1) & 0xFF == ord('q'):\n",
    "        break\n",
    "\n"
   ]
  },
  {
   "cell_type": "markdown",
   "id": "c506414b-c50a-45a5-aa1a-ac0b65508625",
   "metadata": {},
   "source": [
    "<h2>3. Import webcam and show using OpenCV </h2>"
   ]
  },
  {
   "cell_type": "code",
   "execution_count": null,
   "id": "d6eb0c95-c633-4d06-a6d6-2543875335cc",
   "metadata": {},
   "outputs": [],
   "source": [
    "import cv2\n",
    "\n",
    "# take an existing video\n",
    "cap = cv2.VideoCapture(0)\n",
    "\n",
    "while True:\n",
    "    success, img = cap.read()\n",
    "    cv2.imshow(\"Video\", img)\n",
    "    \n",
    "    if cv2.waitKey(1) & 0xFF == ord('q'):\n",
    "        break\n"
   ]
  },
  {
   "cell_type": "code",
   "execution_count": null,
   "id": "f2244565-f266-4fbb-a0ab-94e3a83da151",
   "metadata": {},
   "outputs": [],
   "source": []
  }
 ],
 "metadata": {
  "kernelspec": {
   "display_name": "Python 3 (ipykernel)",
   "language": "python",
   "name": "python3"
  },
  "language_info": {
   "codemirror_mode": {
    "name": "ipython",
    "version": 3
   },
   "file_extension": ".py",
   "mimetype": "text/x-python",
   "name": "python",
   "nbconvert_exporter": "python",
   "pygments_lexer": "ipython3",
   "version": "3.9.12"
  }
 },
 "nbformat": 4,
 "nbformat_minor": 5
}
